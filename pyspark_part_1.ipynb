{
  "nbformat": 4,
  "nbformat_minor": 0,
  "metadata": {
    "colab": {
      "provenance": []
    },
    "kernelspec": {
      "name": "python3",
      "display_name": "Python 3"
    },
    "language_info": {
      "name": "python"
    }
  },
  "cells": [
    {
      "cell_type": "markdown",
      "source": [
        "1. How to import PySpark and check the version?"
      ],
      "metadata": {
        "id": "6Wq3Xnos_iie"
      }
    },
    {
      "cell_type": "code",
      "source": [
        "import pyspark"
      ],
      "metadata": {
        "id": "g7W4wXgP_5KD"
      },
      "execution_count": null,
      "outputs": []
    },
    {
      "cell_type": "code",
      "source": [
        "print(pyspark.__version__)"
      ],
      "metadata": {
        "colab": {
          "base_uri": "https://localhost:8080/"
        },
        "id": "WjKrtkQXAN8h",
        "outputId": "b91a7d9e-7536-454e-adee-54063ce80986"
      },
      "execution_count": null,
      "outputs": [
        {
          "output_type": "stream",
          "name": "stdout",
          "text": [
            "3.5.1\n"
          ]
        }
      ]
    },
    {
      "cell_type": "markdown",
      "source": [
        "2. Write a Spark code snippet to calculate the sum of a column in a DataFrame"
      ],
      "metadata": {
        "id": "uyFb5sFpATET"
      }
    },
    {
      "cell_type": "code",
      "source": [
        "from pyspark.sql import SparkSession\n",
        "from pyspark.sql.functions import col, sum as _sum\n",
        "\n",
        "# Create Spark session\n",
        "spark = SparkSession.builder.appName(\"SalarySum\").getOrCreate()\n",
        "\n",
        "# Sample employee data\n",
        "data = [\n",
        "    (\"John Doe\", \"john@example.com\", 50000.0),\n",
        "    (\"Jane Smith\", \"jane@example.com\", 60000.0),\n",
        "    (\"Bob Johnson\", \"bob@example.com\", 55000.0)\n",
        "]\n",
        "\n",
        "# Define schema and create DataFrame\n",
        "schema = \"Name string, email string, salary double\"\n",
        "df = spark.createDataFrame(data, schema)\n",
        "\n",
        "# Calculate total salary\n",
        "df_final = df.agg(_sum(col(\"salary\")).alias(\"total_salary\")).collect()[0][\"total_salary\"]\n",
        "\n",
        "# Output result\n",
        "print(\"Total Salary:\", df_final)\n"
      ],
      "metadata": {
        "colab": {
          "base_uri": "https://localhost:8080/"
        },
        "id": "s3Qz5ss-Az8T",
        "outputId": "c2cafef6-9b4b-4623-c2d1-9cb9761f0ae2"
      },
      "execution_count": null,
      "outputs": [
        {
          "output_type": "stream",
          "name": "stdout",
          "text": [
            "Total Salary: 165000.0\n"
          ]
        }
      ]
    },
    {
      "cell_type": "markdown",
      "source": [
        "3. Get all the Marks for individual in list"
      ],
      "metadata": {
        "id": "IQgv0xyfBz53"
      }
    },
    {
      "cell_type": "code",
      "source": [
        "from pyspark.sql import SparkSession\n",
        "from pyspark.sql.functions import collect_list, col\n",
        "\n",
        "# Create SparkSession\n",
        "spark = SparkSession.builder.appName(\"MarksList\").getOrCreate()\n",
        "\n",
        "# Sample data\n",
        "data = [\n",
        "    (1, 'Watson', 34),\n",
        "    (1, 'Watson', 40),\n",
        "    (1, 'Watson', 34),\n",
        "    (2, 'Alex', 45),\n",
        "    (2, 'Alex', 50)\n",
        "]\n",
        "\n",
        "# Define schema and create DataFrame\n",
        "schema = \"ID int, Name string, Marks int\"\n",
        "df = spark.createDataFrame(data, schema)\n",
        "\n",
        "# Group by ID and Name, and collect Marks in a list\n",
        "df_final = df.groupBy(col(\"ID\"), col(\"Name\")).agg(\n",
        "    collect_list(col(\"Marks\")).alias(\"All_Marks\")\n",
        ")\n",
        "\n",
        "# Show the result\n",
        "df_final.show(truncate=False)\n"
      ],
      "metadata": {
        "colab": {
          "base_uri": "https://localhost:8080/"
        },
        "id": "xS8pfuIsB1V8",
        "outputId": "4c0eb981-4bc1-4635-b63d-6d7b22a80ef7"
      },
      "execution_count": null,
      "outputs": [
        {
          "output_type": "stream",
          "name": "stdout",
          "text": [
            "+---+------+------------+\n",
            "|ID |Name  |All_Marks   |\n",
            "+---+------+------------+\n",
            "|1  |Watson|[34, 40, 34]|\n",
            "|2  |Alex  |[45, 50]    |\n",
            "+---+------+------------+\n",
            "\n"
          ]
        }
      ]
    }
  ]
}